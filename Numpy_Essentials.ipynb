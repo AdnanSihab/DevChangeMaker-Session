{
  "nbformat": 4,
  "nbformat_minor": 0,
  "metadata": {
    "colab": {
      "provenance": []
    },
    "kernelspec": {
      "name": "python3",
      "display_name": "Python 3"
    },
    "language_info": {
      "name": "python"
    }
  },
  "cells": [
    {
      "cell_type": "code",
      "execution_count": 1,
      "metadata": {
        "id": "h2UN-A08avkG"
      },
      "outputs": [],
      "source": [
        "import numpy as np"
      ]
    },
    {
      "cell_type": "code",
      "source": [
        "list1 = [1,2,3,4,5]\n",
        "print(list1)"
      ],
      "metadata": {
        "colab": {
          "base_uri": "https://localhost:8080/"
        },
        "id": "uYpts8kDcu3z",
        "outputId": "8b64d64e-c180-49a2-963a-596d9914733a"
      },
      "execution_count": 8,
      "outputs": [
        {
          "output_type": "stream",
          "name": "stdout",
          "text": [
            "[1, 2, 3, 4, 5]\n"
          ]
        }
      ]
    },
    {
      "cell_type": "code",
      "source": [
        "# Numpy Array Creation\n",
        "arr = np.array([1,2,3,4,5])\n",
        "# arr = np.array([1,2,3,4,5.5])\n",
        "print(arr)"
      ],
      "metadata": {
        "colab": {
          "base_uri": "https://localhost:8080/"
        },
        "id": "HauWYQeddI0q",
        "outputId": "4a742a97-bea8-4773-c072-32e8d4d506cc"
      },
      "execution_count": 19,
      "outputs": [
        {
          "output_type": "stream",
          "name": "stdout",
          "text": [
            "[1 2 3 4 5]\n"
          ]
        }
      ]
    },
    {
      "cell_type": "code",
      "source": [
        "addition = arr + 2\n",
        "multiplication = arr * 2\n",
        "print(addition)\n",
        "print(multiplication)"
      ],
      "metadata": {
        "colab": {
          "base_uri": "https://localhost:8080/"
        },
        "id": "yZApng_od4oB",
        "outputId": "aa50ef4c-863b-4dcb-cd6b-209db2991a25"
      },
      "execution_count": 11,
      "outputs": [
        {
          "output_type": "stream",
          "name": "stdout",
          "text": [
            "[3 4 5 6 7]\n",
            "[ 2  4  6  8 10]\n"
          ]
        }
      ]
    },
    {
      "cell_type": "code",
      "source": [
        "# result1 = list1 + 2\n",
        "# print(result)\n",
        "#wrong"
      ],
      "metadata": {
        "id": "nr6WapJ4ezOy"
      },
      "execution_count": null,
      "outputs": []
    },
    {
      "cell_type": "code",
      "source": [
        "arr[4]\n",
        "# list1[4]"
      ],
      "metadata": {
        "colab": {
          "base_uri": "https://localhost:8080/"
        },
        "id": "blXolbO-e_S6",
        "outputId": "284649cb-eb0e-4b65-e69c-3e9583cc21d4"
      },
      "execution_count": 13,
      "outputs": [
        {
          "output_type": "execute_result",
          "data": {
            "text/plain": [
              "5"
            ]
          },
          "metadata": {},
          "execution_count": 13
        }
      ]
    },
    {
      "cell_type": "code",
      "source": [
        "print(arr.shape) #column and row\n",
        "print(arr.size) #elements\n",
        "print(arr.dtype)"
      ],
      "metadata": {
        "colab": {
          "base_uri": "https://localhost:8080/"
        },
        "id": "IE2U67W1fdQK",
        "outputId": "2d0f73a8-fe31-452d-f2de-bbd2ec8c5162"
      },
      "execution_count": 20,
      "outputs": [
        {
          "output_type": "stream",
          "name": "stdout",
          "text": [
            "(5,)\n",
            "5\n",
            "int64\n",
            "\n"
          ]
        }
      ]
    },
    {
      "cell_type": "code",
      "source": [
        "arr1 = np.array([3234,13,244,1333,50])\n",
        "print(arr1.min())\n",
        "print(arr1.max())\n",
        "print(arr1.sum())\n",
        "print(arr1.mean())"
      ],
      "metadata": {
        "colab": {
          "base_uri": "https://localhost:8080/"
        },
        "id": "ITN3TUIcgCUq",
        "outputId": "d02d37a0-f4d2-4c3c-a290-1df31c0d512b"
      },
      "execution_count": 24,
      "outputs": [
        {
          "output_type": "stream",
          "name": "stdout",
          "text": [
            "13\n",
            "3234\n",
            "4874\n",
            "974.8\n"
          ]
        }
      ]
    },
    {
      "cell_type": "code",
      "source": [
        "arr1 = np.array([1,2,3,4,5])\n",
        "arr2 = np.array([6,7,8,9,10])\n",
        "print(arr1 + arr2)\n",
        "print(arr1 * arr2)"
      ],
      "metadata": {
        "colab": {
          "base_uri": "https://localhost:8080/"
        },
        "id": "AM0vBbzug3Cy",
        "outputId": "592b6e1a-df5a-4244-daa1-4b765b505ad2"
      },
      "execution_count": 26,
      "outputs": [
        {
          "output_type": "stream",
          "name": "stdout",
          "text": [
            "[ 7  9 11 13 15]\n",
            "[ 6 14 24 36 50]\n"
          ]
        }
      ]
    },
    {
      "cell_type": "code",
      "source": [
        "num1 = int(input())\n",
        "num2 = int(input())\n",
        "result = np.add(num1,num2)\n",
        "print(result)\n",
        "#subtract\n",
        "#multiply\n",
        "#divide"
      ],
      "metadata": {
        "colab": {
          "base_uri": "https://localhost:8080/"
        },
        "id": "6fLiIAywhRqC",
        "outputId": "67f468d7-e606-4f4b-d9a6-9c6d33d208a2"
      },
      "execution_count": 28,
      "outputs": [
        {
          "output_type": "stream",
          "name": "stdout",
          "text": [
            "5\n",
            "7\n",
            "12\n"
          ]
        }
      ]
    },
    {
      "cell_type": "code",
      "source": [
        "#[0. 0. 0. 0. 0.]\n",
        "#64bit\n",
        "arr1 = np.zeros(10, dtype = \"int\")\n",
        "print(arr1)\n",
        "print(arr1.dtype)\n",
        "print(arr1.size) #Always use this to check elements counts\n",
        "print(len(arr1))"
      ],
      "metadata": {
        "colab": {
          "base_uri": "https://localhost:8080/"
        },
        "id": "_2dUjBhLh4KJ",
        "outputId": "16cc9afb-3463-4224-beff-007060cff202"
      },
      "execution_count": 34,
      "outputs": [
        {
          "output_type": "stream",
          "name": "stdout",
          "text": [
            "[0 0 0 0 0 0 0 0 0 0]\n",
            "int64\n",
            "10\n",
            "10\n"
          ]
        }
      ]
    },
    {
      "cell_type": "code",
      "source": [
        "arr2 = np.zeros(shape = (3,4), dtype = \"int\")\n",
        "print(arr2)\n",
        "print(arr2.shape)\n",
        "print(arr2.dtype)\n",
        "print(arr2.size)\n",
        "print(len(arr2))\n",
        "\n",
        "# 1 2 3 4 5 6\n",
        "# 2\n",
        "# 3\n",
        "# 4\n",
        "# 5\n",
        "\n",
        "\n",
        "# serial_no name baba maa\n",
        "# 1.        afif  a\n",
        "# 2.        afiat b\n",
        "# 3.        rangan c"
      ],
      "metadata": {
        "colab": {
          "base_uri": "https://localhost:8080/"
        },
        "id": "zllVlitPieQs",
        "outputId": "e988d8c7-dbaf-4cab-d5a8-7d10503d1a34"
      },
      "execution_count": 41,
      "outputs": [
        {
          "output_type": "stream",
          "name": "stdout",
          "text": [
            "[[0 0 0 0]\n",
            " [0 0 0 0]\n",
            " [0 0 0 0]]\n",
            "(3, 4)\n",
            "int64\n",
            "12\n",
            "3\n"
          ]
        }
      ]
    },
    {
      "cell_type": "code",
      "source": [
        "arr4 = np.identity(3, dtype=\"int\") #np.eye\n",
        "print(arr4)\n",
        "arr41 = arr4+5\n",
        "arr5 = arr41.flatten()\n",
        "print(arr5)"
      ],
      "metadata": {
        "colab": {
          "base_uri": "https://localhost:8080/"
        },
        "id": "A8a2wUDQmYm-",
        "outputId": "85b5364d-68e2-4a81-f0e0-23c85c25e21f"
      },
      "execution_count": 51,
      "outputs": [
        {
          "output_type": "stream",
          "name": "stdout",
          "text": [
            "[[1 0 0]\n",
            " [0 1 0]\n",
            " [0 0 1]]\n",
            "[6 5 5 5 6 5 5 5 6]\n"
          ]
        }
      ]
    },
    {
      "cell_type": "code",
      "source": [
        "import matplotlib.pyplot as plt\n",
        "\n",
        "x = np.array([0,5])\n",
        "y = np.array([10,50])\n",
        "\n",
        "plt.plot(x,y)\n",
        "plt.show()"
      ],
      "metadata": {
        "colab": {
          "base_uri": "https://localhost:8080/",
          "height": 430
        },
        "id": "WZ4leRV9mxvW",
        "outputId": "45ab076b-550f-456d-ebbf-6cb7ed7e98f3"
      },
      "execution_count": 52,
      "outputs": [
        {
          "output_type": "display_data",
          "data": {
            "text/plain": [
              "<Figure size 640x480 with 1 Axes>"
            ],
            "image/png": "[encoded data removed]"
          },
          "metadata": {}
        }
      ]
    }
  ]
}